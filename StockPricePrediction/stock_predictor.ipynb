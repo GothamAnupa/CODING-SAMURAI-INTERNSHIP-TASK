# 📈 Stock Price Prediction using Linear Regression

# Step 1: Import libraries
import yfinance as yf
import pandas as pd
import matplotlib.pyplot as plt
from sklearn.linear_model import LinearRegression
from sklearn.metrics import mean_squared_error, mean_absolute_error
import numpy as np

# Step 2: Download stock data
df = yf.download("AAPL", start="2015-01-01", end="2024-12-31")
df = df[['Close']]
df.dropna(inplace=True)

# Step 3: Create lag feature
df['Close_t-1'] = df['Close'].shift(1)
df.dropna(inplace=True)

# Step 4: Train-test split (80/20)
train_size = int(len(df) * 0.8)
train, test = df[:train_size], df[train_size:]

X_train = train[['Close_t-1']]
y_train = train['Close']
X_test = test[['Close_t-1']]
y_test = test['Close']

# Step 5: Linear Regression Model
model = LinearRegression()
model.fit(X_train, y_train)
preds = model.predict(X_test)

# Step 6: Evaluation
mse = mean_squared_error(y_test, preds)
mae = mean_absolute_error(y_test, preds)
rmse = np.sqrt(mse)

print(f"MAE: {mae}")
print(f"MSE: {mse}")
print(f"RMSE: {rmse}")

# Step 7: Plot Actual vs Predicted
plt.figure(figsize=(10,5))
plt.plot(y_test.values, label="Actual")
plt.plot(preds, label="Predicted")
plt.title("Stock Price Prediction")
plt.xlabel("Days")
plt.ylabel("Price")
plt.legend()
plt.grid(True)
plt.savefig("plots/prediction.png")
plt.show()
